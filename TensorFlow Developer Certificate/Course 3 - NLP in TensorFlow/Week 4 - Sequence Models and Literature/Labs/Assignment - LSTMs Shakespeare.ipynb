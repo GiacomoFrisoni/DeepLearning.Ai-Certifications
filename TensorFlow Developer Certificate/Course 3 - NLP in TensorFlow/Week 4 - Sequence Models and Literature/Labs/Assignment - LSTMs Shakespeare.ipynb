{
 "cells": [
  {
   "cell_type": "code",
   "execution_count": 1,
   "metadata": {
    "id": "zX4Kg8DUTKWO"
   },
   "outputs": [],
   "source": [
    "#@title Licensed under the Apache License, Version 2.0 (the \"License\");\n",
    "# you may not use this file except in compliance with the License.\n",
    "# You may obtain a copy of the License at\n",
    "#\n",
    "# https://www.apache.org/licenses/LICENSE-2.0\n",
    "#\n",
    "# Unless required by applicable law or agreed to in writing, software\n",
    "# distributed under the License is distributed on an \"AS IS\" BASIS,\n",
    "# WITHOUT WARRANTIES OR CONDITIONS OF ANY KIND, either express or implied.\n",
    "# See the License for the specific language governing permissions and\n",
    "# limitations under the License."
   ]
  },
  {
   "cell_type": "code",
   "execution_count": 2,
   "metadata": {
    "id": "BOwsuGQQY9OL"
   },
   "outputs": [],
   "source": [
    "from tensorflow.keras.preprocessing.sequence import pad_sequences\n",
    "from tensorflow.keras.layers import Embedding, LSTM, Dense, Dropout, Bidirectional\n",
    "from tensorflow.keras.preprocessing.text import Tokenizer\n",
    "from tensorflow.keras.models import Sequential\n",
    "from tensorflow.keras.optimizers import Adam\n",
    "from tensorflow.keras import regularizers\n",
    "import tensorflow.keras.utils as ku \n",
    "import numpy as np "
   ]
  },
  {
   "cell_type": "code",
   "execution_count": 3,
   "metadata": {
    "colab": {
     "base_uri": "https://localhost:8080/",
     "height": 204
    },
    "id": "PRnDnCW-Z7qv",
    "outputId": "23637c35-843e-484e-a9fc-3e27853c4ace"
   },
   "outputs": [
    {
     "name": "stdout",
     "output_type": "stream",
     "text": [
      "--2020-10-06 13:00:09--  https://storage.googleapis.com/laurencemoroney-blog.appspot.com/sonnets.txt\n",
      "Resolving storage.googleapis.com (storage.googleapis.com)... 64.233.167.128, 74.125.133.128, 74.125.140.128, ...\n",
      "Connecting to storage.googleapis.com (storage.googleapis.com)|64.233.167.128|:443... connected.\n",
      "HTTP request sent, awaiting response... 200 OK\n",
      "Length: 93578 (91K) [text/plain]\n",
      "Saving to: ‘/tmp/sonnets.txt’\n",
      "\n",
      "\r",
      "/tmp/sonnets.txt      0%[                    ]       0  --.-KB/s               \r",
      "/tmp/sonnets.txt    100%[===================>]  91.38K  --.-KB/s    in 0.002s  \n",
      "\n",
      "2020-10-06 13:00:10 (56.1 MB/s) - ‘/tmp/sonnets.txt’ saved [93578/93578]\n",
      "\n"
     ]
    }
   ],
   "source": [
    "tokenizer = Tokenizer()\n",
    "!wget --no-check-certificate \\\n",
    "    https://storage.googleapis.com/laurencemoroney-blog.appspot.com/sonnets.txt \\\n",
    "    -O /tmp/sonnets.txt\n",
    "data = open('/tmp/sonnets.txt').read()\n",
    "\n",
    "corpus = data.lower().split(\"\\n\")\n",
    "\n",
    "\n",
    "tokenizer.fit_on_texts(corpus)\n",
    "total_words = len(tokenizer.word_index) + 1\n",
    "\n",
    "# create input sequences using list of tokens\n",
    "input_sequences = []\n",
    "for line in corpus:\n",
    "\ttoken_list = tokenizer.texts_to_sequences([line])[0]\n",
    "\tfor i in range(1, len(token_list)):\n",
    "\t\tn_gram_sequence = token_list[:i+1]\n",
    "\t\tinput_sequences.append(n_gram_sequence)\n",
    "\n",
    "\n",
    "# pad sequences \n",
    "max_sequence_len = max([len(x) for x in input_sequences])\n",
    "input_sequences = np.array(pad_sequences(input_sequences, maxlen=max_sequence_len, padding='pre'))\n",
    "\n",
    "# create predictors and label\n",
    "predictors, label = input_sequences[:,:-1],input_sequences[:,-1]\n",
    "\n",
    "label = ku.to_categorical(label, num_classes=total_words)"
   ]
  },
  {
   "cell_type": "code",
   "execution_count": 4,
   "metadata": {
    "colab": {
     "base_uri": "https://localhost:8080/",
     "height": 374
    },
    "id": "w9vH8Y59ajYL",
    "outputId": "64decfbb-6d0b-4687-d6f8-ae6ea07a2d89"
   },
   "outputs": [
    {
     "name": "stdout",
     "output_type": "stream",
     "text": [
      "Model: \"sequential\"\n",
      "_________________________________________________________________\n",
      "Layer (type)                 Output Shape              Param #   \n",
      "=================================================================\n",
      "embedding (Embedding)        (None, 10, 100)           321100    \n",
      "_________________________________________________________________\n",
      "bidirectional (Bidirectional (None, 10, 300)           301200    \n",
      "_________________________________________________________________\n",
      "dropout (Dropout)            (None, 10, 300)           0         \n",
      "_________________________________________________________________\n",
      "lstm_1 (LSTM)                (None, 100)               160400    \n",
      "_________________________________________________________________\n",
      "dense (Dense)                (None, 1605)              162105    \n",
      "_________________________________________________________________\n",
      "dense_1 (Dense)              (None, 3211)              5156866   \n",
      "=================================================================\n",
      "Total params: 6,101,671\n",
      "Trainable params: 6,101,671\n",
      "Non-trainable params: 0\n",
      "_________________________________________________________________\n",
      "None\n"
     ]
    }
   ],
   "source": [
    "model = Sequential()\n",
    "model.add(Embedding(total_words, 100, input_length=max_sequence_len-1))\n",
    "model.add(Bidirectional(LSTM(150, return_sequences = True)))\n",
    "model.add(Dropout(0.2))\n",
    "model.add(LSTM(100))\n",
    "model.add(Dense(total_words/2, activation='relu', kernel_regularizer=regularizers.l2(0.01)))\n",
    "model.add(Dense(total_words, activation='softmax'))\n",
    "model.compile(loss='categorical_crossentropy', optimizer='adam', metrics=['accuracy'])\n",
    "print(model.summary())\n"
   ]
  },
  {
   "cell_type": "code",
   "execution_count": 5,
   "metadata": {
    "colab": {
     "base_uri": "https://localhost:8080/",
     "height": 1000
    },
    "id": "AIg2f1HBxqof",
    "outputId": "159ccd9f-3ad6-4102-a305-60c590fdfc4b"
   },
   "outputs": [
    {
     "name": "stdout",
     "output_type": "stream",
     "text": [
      "Epoch 1/100\n",
      "484/484 [==============================] - 13s 26ms/step - loss: 6.9131 - accuracy: 0.0213\n",
      "Epoch 2/100\n",
      "484/484 [==============================] - 13s 26ms/step - loss: 6.5012 - accuracy: 0.0237\n",
      "Epoch 3/100\n",
      "484/484 [==============================] - 13s 26ms/step - loss: 6.4064 - accuracy: 0.0254\n",
      "Epoch 4/100\n",
      "484/484 [==============================] - 13s 26ms/step - loss: 6.2829 - accuracy: 0.0298\n",
      "Epoch 5/100\n",
      "484/484 [==============================] - 13s 26ms/step - loss: 6.1736 - accuracy: 0.0360\n",
      "Epoch 6/100\n",
      "484/484 [==============================] - 13s 26ms/step - loss: 6.0823 - accuracy: 0.0385\n",
      "Epoch 7/100\n",
      "484/484 [==============================] - 13s 26ms/step - loss: 5.9952 - accuracy: 0.0423\n",
      "Epoch 8/100\n",
      "484/484 [==============================] - 13s 26ms/step - loss: 5.9050 - accuracy: 0.0451\n",
      "Epoch 9/100\n",
      "484/484 [==============================] - 13s 26ms/step - loss: 5.7981 - accuracy: 0.0519\n",
      "Epoch 10/100\n",
      "484/484 [==============================] - 13s 26ms/step - loss: 5.6816 - accuracy: 0.0614\n",
      "Epoch 11/100\n",
      "484/484 [==============================] - 13s 26ms/step - loss: 5.5676 - accuracy: 0.0666\n",
      "Epoch 12/100\n",
      "484/484 [==============================] - 13s 26ms/step - loss: 5.4530 - accuracy: 0.0733\n",
      "Epoch 13/100\n",
      "484/484 [==============================] - 13s 26ms/step - loss: 5.3455 - accuracy: 0.0820\n",
      "Epoch 14/100\n",
      "484/484 [==============================] - 13s 27ms/step - loss: 5.2316 - accuracy: 0.0908\n",
      "Epoch 15/100\n",
      "484/484 [==============================] - 13s 27ms/step - loss: 5.1231 - accuracy: 0.0955\n",
      "Epoch 16/100\n",
      "484/484 [==============================] - 13s 26ms/step - loss: 5.0147 - accuracy: 0.1035\n",
      "Epoch 17/100\n",
      "484/484 [==============================] - 13s 26ms/step - loss: 4.9118 - accuracy: 0.1126\n",
      "Epoch 18/100\n",
      "484/484 [==============================] - 13s 26ms/step - loss: 4.8062 - accuracy: 0.1229\n",
      "Epoch 19/100\n",
      "484/484 [==============================] - 13s 27ms/step - loss: 4.6997 - accuracy: 0.1308\n",
      "Epoch 20/100\n",
      "484/484 [==============================] - 13s 27ms/step - loss: 4.5999 - accuracy: 0.1418\n",
      "Epoch 21/100\n",
      "484/484 [==============================] - 13s 27ms/step - loss: 4.4983 - accuracy: 0.1513\n",
      "Epoch 22/100\n",
      "484/484 [==============================] - 13s 27ms/step - loss: 4.3984 - accuracy: 0.1651\n",
      "Epoch 23/100\n",
      "484/484 [==============================] - 13s 27ms/step - loss: 4.3028 - accuracy: 0.1757\n",
      "Epoch 24/100\n",
      "484/484 [==============================] - 13s 27ms/step - loss: 4.2044 - accuracy: 0.1852\n",
      "Epoch 25/100\n",
      "484/484 [==============================] - 13s 27ms/step - loss: 4.1068 - accuracy: 0.1980\n",
      "Epoch 26/100\n",
      "484/484 [==============================] - 13s 27ms/step - loss: 4.0084 - accuracy: 0.2101\n",
      "Epoch 27/100\n",
      "484/484 [==============================] - 13s 27ms/step - loss: 3.9090 - accuracy: 0.2267\n",
      "Epoch 28/100\n",
      "484/484 [==============================] - 13s 27ms/step - loss: 3.8215 - accuracy: 0.2395\n",
      "Epoch 29/100\n",
      "484/484 [==============================] - 13s 27ms/step - loss: 3.7222 - accuracy: 0.2601\n",
      "Epoch 30/100\n",
      "484/484 [==============================] - 13s 27ms/step - loss: 3.6341 - accuracy: 0.2691\n",
      "Epoch 31/100\n",
      "484/484 [==============================] - 13s 27ms/step - loss: 3.5549 - accuracy: 0.2868\n",
      "Epoch 32/100\n",
      "484/484 [==============================] - 13s 27ms/step - loss: 3.4714 - accuracy: 0.3036\n",
      "Epoch 33/100\n",
      "484/484 [==============================] - 13s 27ms/step - loss: 3.3785 - accuracy: 0.3229\n",
      "Epoch 34/100\n",
      "484/484 [==============================] - 13s 27ms/step - loss: 3.2973 - accuracy: 0.3421\n",
      "Epoch 35/100\n",
      "484/484 [==============================] - 13s 27ms/step - loss: 3.2175 - accuracy: 0.3624\n",
      "Epoch 36/100\n",
      "484/484 [==============================] - 13s 27ms/step - loss: 3.1437 - accuracy: 0.3774\n",
      "Epoch 37/100\n",
      "484/484 [==============================] - 13s 27ms/step - loss: 3.0644 - accuracy: 0.3934\n",
      "Epoch 38/100\n",
      "484/484 [==============================] - 13s 27ms/step - loss: 3.0016 - accuracy: 0.4075\n",
      "Epoch 39/100\n",
      "484/484 [==============================] - 13s 27ms/step - loss: 2.9272 - accuracy: 0.4240\n",
      "Epoch 40/100\n",
      "484/484 [==============================] - 13s 27ms/step - loss: 2.8601 - accuracy: 0.4396\n",
      "Epoch 41/100\n",
      "484/484 [==============================] - 13s 27ms/step - loss: 2.7910 - accuracy: 0.4589\n",
      "Epoch 42/100\n",
      "484/484 [==============================] - 13s 27ms/step - loss: 2.7319 - accuracy: 0.4705\n",
      "Epoch 43/100\n",
      "484/484 [==============================] - 13s 26ms/step - loss: 2.6667 - accuracy: 0.4858\n",
      "Epoch 44/100\n",
      "484/484 [==============================] - 13s 26ms/step - loss: 2.6084 - accuracy: 0.4959\n",
      "Epoch 45/100\n",
      "484/484 [==============================] - 13s 27ms/step - loss: 2.5656 - accuracy: 0.5096\n",
      "Epoch 46/100\n",
      "484/484 [==============================] - 13s 27ms/step - loss: 2.5026 - accuracy: 0.5222\n",
      "Epoch 47/100\n",
      "484/484 [==============================] - 13s 27ms/step - loss: 2.4462 - accuracy: 0.5361\n",
      "Epoch 48/100\n",
      "484/484 [==============================] - 13s 27ms/step - loss: 2.4026 - accuracy: 0.5433\n",
      "Epoch 49/100\n",
      "484/484 [==============================] - 13s 27ms/step - loss: 2.3620 - accuracy: 0.5541\n",
      "Epoch 50/100\n",
      "484/484 [==============================] - 13s 27ms/step - loss: 2.2968 - accuracy: 0.5717\n",
      "Epoch 51/100\n",
      "484/484 [==============================] - 13s 27ms/step - loss: 2.2534 - accuracy: 0.5796\n",
      "Epoch 52/100\n",
      "484/484 [==============================] - 13s 27ms/step - loss: 2.2069 - accuracy: 0.5903\n",
      "Epoch 53/100\n",
      "484/484 [==============================] - 13s 27ms/step - loss: 2.1611 - accuracy: 0.6008\n",
      "Epoch 54/100\n",
      "484/484 [==============================] - 13s 27ms/step - loss: 2.1316 - accuracy: 0.6059\n",
      "Epoch 55/100\n",
      "484/484 [==============================] - 13s 26ms/step - loss: 2.0797 - accuracy: 0.6191\n",
      "Epoch 56/100\n",
      "484/484 [==============================] - 13s 27ms/step - loss: 2.0554 - accuracy: 0.6220\n",
      "Epoch 57/100\n",
      "484/484 [==============================] - 13s 27ms/step - loss: 2.0009 - accuracy: 0.6351\n",
      "Epoch 58/100\n",
      "484/484 [==============================] - 13s 27ms/step - loss: 1.9713 - accuracy: 0.6418\n",
      "Epoch 59/100\n",
      "484/484 [==============================] - 13s 27ms/step - loss: 1.9305 - accuracy: 0.6519\n",
      "Epoch 60/100\n",
      "484/484 [==============================] - 13s 27ms/step - loss: 1.8968 - accuracy: 0.6599\n",
      "Epoch 61/100\n",
      "484/484 [==============================] - 13s 27ms/step - loss: 1.8655 - accuracy: 0.6641\n",
      "Epoch 62/100\n",
      "484/484 [==============================] - 13s 27ms/step - loss: 1.8384 - accuracy: 0.6729\n",
      "Epoch 63/100\n",
      "484/484 [==============================] - 13s 27ms/step - loss: 1.7925 - accuracy: 0.6827\n",
      "Epoch 64/100\n",
      "484/484 [==============================] - 13s 27ms/step - loss: 1.7706 - accuracy: 0.6878\n",
      "Epoch 65/100\n",
      "484/484 [==============================] - 13s 27ms/step - loss: 1.7536 - accuracy: 0.6885\n",
      "Epoch 66/100\n",
      "484/484 [==============================] - 13s 27ms/step - loss: 1.7097 - accuracy: 0.7029\n",
      "Epoch 67/100\n",
      "484/484 [==============================] - 13s 27ms/step - loss: 1.6906 - accuracy: 0.7042\n",
      "Epoch 68/100\n",
      "484/484 [==============================] - 13s 27ms/step - loss: 1.6586 - accuracy: 0.7083\n",
      "Epoch 69/100\n",
      "484/484 [==============================] - 13s 27ms/step - loss: 1.6408 - accuracy: 0.7127\n",
      "Epoch 70/100\n",
      "484/484 [==============================] - 13s 27ms/step - loss: 1.6154 - accuracy: 0.7169\n",
      "Epoch 71/100\n",
      "484/484 [==============================] - 13s 26ms/step - loss: 1.5878 - accuracy: 0.7218\n",
      "Epoch 72/100\n",
      "484/484 [==============================] - 13s 27ms/step - loss: 1.5584 - accuracy: 0.7326\n",
      "Epoch 73/100\n",
      "484/484 [==============================] - 13s 27ms/step - loss: 1.5333 - accuracy: 0.7333\n",
      "Epoch 74/100\n",
      "484/484 [==============================] - 13s 27ms/step - loss: 1.5134 - accuracy: 0.7427\n",
      "Epoch 75/100\n",
      "484/484 [==============================] - 13s 27ms/step - loss: 1.4937 - accuracy: 0.7452\n",
      "Epoch 76/100\n",
      "484/484 [==============================] - 13s 27ms/step - loss: 1.4794 - accuracy: 0.7453\n",
      "Epoch 77/100\n",
      "484/484 [==============================] - 13s 27ms/step - loss: 1.4625 - accuracy: 0.7489\n",
      "Epoch 78/100\n",
      "484/484 [==============================] - 13s 27ms/step - loss: 1.4438 - accuracy: 0.7529\n",
      "Epoch 79/100\n",
      "484/484 [==============================] - 13s 27ms/step - loss: 1.4435 - accuracy: 0.7497\n",
      "Epoch 80/100\n",
      "484/484 [==============================] - 13s 27ms/step - loss: 1.4149 - accuracy: 0.7562\n",
      "Epoch 81/100\n",
      "484/484 [==============================] - 13s 27ms/step - loss: 1.3886 - accuracy: 0.7595\n",
      "Epoch 82/100\n",
      "484/484 [==============================] - 13s 27ms/step - loss: 1.3675 - accuracy: 0.7643\n",
      "Epoch 83/100\n",
      "484/484 [==============================] - 13s 27ms/step - loss: 1.3405 - accuracy: 0.7738\n",
      "Epoch 84/100\n",
      "484/484 [==============================] - 13s 27ms/step - loss: 1.3561 - accuracy: 0.7678\n",
      "Epoch 85/100\n",
      "484/484 [==============================] - 13s 27ms/step - loss: 1.3228 - accuracy: 0.7736\n",
      "Epoch 86/100\n",
      "484/484 [==============================] - 13s 27ms/step - loss: 1.3082 - accuracy: 0.7785\n",
      "Epoch 87/100\n",
      "484/484 [==============================] - 13s 28ms/step - loss: 1.2856 - accuracy: 0.7798\n",
      "Epoch 88/100\n",
      "484/484 [==============================] - 13s 27ms/step - loss: 1.2848 - accuracy: 0.7800\n",
      "Epoch 89/100\n",
      "484/484 [==============================] - 13s 27ms/step - loss: 1.2638 - accuracy: 0.7833\n",
      "Epoch 90/100\n",
      "484/484 [==============================] - 13s 27ms/step - loss: 1.2663 - accuracy: 0.7809\n",
      "Epoch 91/100\n",
      "484/484 [==============================] - 13s 27ms/step - loss: 1.2512 - accuracy: 0.7864\n",
      "Epoch 92/100\n",
      "484/484 [==============================] - 13s 27ms/step - loss: 1.2249 - accuracy: 0.7902\n",
      "Epoch 93/100\n",
      "484/484 [==============================] - 13s 27ms/step - loss: 1.2158 - accuracy: 0.7948\n",
      "Epoch 94/100\n",
      "484/484 [==============================] - 13s 27ms/step - loss: 1.2166 - accuracy: 0.7899\n",
      "Epoch 95/100\n",
      "484/484 [==============================] - 13s 27ms/step - loss: 1.1963 - accuracy: 0.7932\n",
      "Epoch 96/100\n",
      "484/484 [==============================] - 13s 27ms/step - loss: 1.1870 - accuracy: 0.7978\n",
      "Epoch 97/100\n",
      "484/484 [==============================] - 13s 27ms/step - loss: 1.1786 - accuracy: 0.7966\n",
      "Epoch 98/100\n",
      "484/484 [==============================] - 13s 27ms/step - loss: 1.1597 - accuracy: 0.7996\n",
      "Epoch 99/100\n",
      "484/484 [==============================] - 13s 27ms/step - loss: 1.1600 - accuracy: 0.7969\n",
      "Epoch 100/100\n",
      "484/484 [==============================] - 13s 27ms/step - loss: 1.1523 - accuracy: 0.8003\n"
     ]
    }
   ],
   "source": [
    " history = model.fit(predictors, label, epochs=100, verbose=1)"
   ]
  },
  {
   "cell_type": "code",
   "execution_count": 6,
   "metadata": {
    "colab": {
     "base_uri": "https://localhost:8080/",
     "height": 545
    },
    "id": "1fXTEO3GJ282",
    "outputId": "838fb855-fb02-4776-9868-e0fe2bbb00f2"
   },
   "outputs": [
    {
     "data": {
      "image/png": "[encoded data removed]",
      "text/plain": [
       "<Figure size 432x288 with 1 Axes>"
      ]
     },
     "metadata": {
      "needs_background": "light",
      "tags": []
     },
     "output_type": "display_data"
    },
    {
     "data": {
      "image/png": "[encoded data removed]",
      "text/plain": [
       "<Figure size 432x288 with 1 Axes>"
      ]
     },
     "metadata": {
      "needs_background": "light",
      "tags": []
     },
     "output_type": "display_data"
    }
   ],
   "source": [
    "import matplotlib.pyplot as plt\n",
    "acc = history.history['accuracy']\n",
    "loss = history.history['loss']\n",
    "\n",
    "epochs = range(len(acc))\n",
    "\n",
    "plt.plot(epochs, acc, 'b', label='Training accuracy')\n",
    "plt.title('Training accuracy')\n",
    "\n",
    "plt.figure()\n",
    "\n",
    "plt.plot(epochs, loss, 'b', label='Training Loss')\n",
    "plt.title('Training loss')\n",
    "plt.legend()\n",
    "\n",
    "plt.show()"
   ]
  },
  {
   "cell_type": "code",
   "execution_count": 7,
   "metadata": {
    "colab": {
     "base_uri": "https://localhost:8080/",
     "height": 105
    },
    "id": "6Vc6PHgxa6Hm",
    "outputId": "784492da-fb5f-4a96-8ddc-3a510c8b9e0d"
   },
   "outputs": [
    {
     "name": "stdout",
     "output_type": "stream",
     "text": [
      "WARNING:tensorflow:From <ipython-input-7-622d307fa19a>:7: Sequential.predict_classes (from tensorflow.python.keras.engine.sequential) is deprecated and will be removed after 2021-01-01.\n",
      "Instructions for updating:\n",
      "Please use instead:* `np.argmax(model.predict(x), axis=-1)`,   if your model does multi-class classification   (e.g. if it uses a `softmax` last-layer activation).* `(model.predict(x) > 0.5).astype(\"int32\")`,   if your model does binary classification   (e.g. if it uses a `sigmoid` last-layer activation).\n",
      "Help me Obi Wan Kenobi, you're my only hope itself what in other wrong days forsworn me o'er date substance wide shore state did glance aside done fight take so speechless waste alone cured alone still make thine old end shines so green thee thence not reckon'd say ill ill ill ill new ' must thee best ' forsworn me best sweetness tell 'tis thee back seen high distill'd by both her gate dimm'd hate words new grow wide old can grow old old night of ill men ' must thee find find each o'er pride be shows be seen thyself be done chide my heart so rare wrong\n"
     ]
    }
   ],
   "source": [
    "seed_text = \"Help me Obi Wan Kenobi, you're my only hope\"\n",
    "next_words = 100\n",
    "  \n",
    "for _ in range(next_words):\n",
    "\ttoken_list = tokenizer.texts_to_sequences([seed_text])[0]\n",
    "\ttoken_list = pad_sequences([token_list], maxlen=max_sequence_len-1, padding='pre')\n",
    "\tpredicted = model.predict_classes(token_list, verbose=0)\n",
    "\toutput_word = \"\"\n",
    "\tfor word, index in tokenizer.word_index.items():\n",
    "\t\tif index == predicted:\n",
    "\t\t\toutput_word = word\n",
    "\t\t\tbreak\n",
    "\tseed_text += \" \" + output_word\n",
    "print(seed_text)"
   ]
  },
  {
   "cell_type": "code",
   "execution_count": null,
   "metadata": {
    "id": "Ddr-gGFa_zEF"
   },
   "outputs": [],
   "source": []
  }
 ],
 "metadata": {
  "accelerator": "GPU",
  "colab": {
   "name": "NLP_Week4_Exercise_Shakespeare_Answer.ipynb",
   "provenance": [],
   "toc_visible": true
  },
  "kernelspec": {
   "display_name": "Python 3",
   "language": "python",
   "name": "python3"
  },
  "language_info": {
   "codemirror_mode": {
    "name": "ipython",
    "version": 3
   },
   "file_extension": ".py",
   "mimetype": "text/x-python",
   "name": "python",
   "nbconvert_exporter": "python",
   "pygments_lexer": "ipython3",
   "version": "3.7.7"
  }
 },
 "nbformat": 4,
 "nbformat_minor": 1
}
