{
 "cells": [
  {
   "cell_type": "code",
   "execution_count": 1,
   "metadata": {
    "id": "zX4Kg8DUTKWO"
   },
   "outputs": [],
   "source": [
    "#@title Licensed under the Apache License, Version 2.0 (the \"License\");\n",
    "# you may not use this file except in compliance with the License.\n",
    "# You may obtain a copy of the License at\n",
    "#\n",
    "# https://www.apache.org/licenses/LICENSE-2.0\n",
    "#\n",
    "# Unless required by applicable law or agreed to in writing, software\n",
    "# distributed under the License is distributed on an \"AS IS\" BASIS,\n",
    "# WITHOUT WARRANTIES OR CONDITIONS OF ANY KIND, either express or implied.\n",
    "# See the License for the specific language governing permissions and\n",
    "# limitations under the License."
   ]
  },
  {
   "cell_type": "markdown",
   "metadata": {
    "id": "5yvsfYZ96yJy"
   },
   "source": [
    "<a href=\"https://colab.research.google.com/github/lmoroney/dlaicourse/blob/master/TensorFlow%20In%20Practice/Course%203%20-%20NLP/NLP%20Course%20-%20Week%203%20Exercise%20Answer.ipynb\" target=\"_parent\"><img src=\"https://colab.research.google.com/assets/colab-badge.svg\" alt=\"Open In Colab\"/></a>"
   ]
  },
  {
   "cell_type": "code",
   "execution_count": 2,
   "metadata": {
    "id": "hmA6EzkQJ5jt"
   },
   "outputs": [],
   "source": [
    "import json\n",
    "import tensorflow as tf\n",
    "import csv\n",
    "import random\n",
    "import numpy as np\n",
    "\n",
    "from tensorflow.keras.preprocessing.text import Tokenizer\n",
    "from tensorflow.keras.preprocessing.sequence import pad_sequences\n",
    "from tensorflow.keras.utils import to_categorical\n",
    "from tensorflow.keras import regularizers\n",
    "\n",
    "\n",
    "embedding_dim = 100\n",
    "max_length = 16\n",
    "trunc_type='post'\n",
    "padding_type='post'\n",
    "oov_tok = \"<OOV>\"\n",
    "training_size=160000\n",
    "test_portion=.1\n",
    "\n",
    "corpus = []\n"
   ]
  },
  {
   "cell_type": "code",
   "execution_count": 3,
   "metadata": {
    "colab": {
     "base_uri": "https://localhost:8080/",
     "height": 204
    },
    "id": "bM0l_dORKqE0",
    "outputId": "fc5f561a-e6a4-4ff4-bdaa-de01f76b5d11"
   },
   "outputs": [
    {
     "name": "stdout",
     "output_type": "stream",
     "text": [
      "--2020-10-06 12:38:32--  https://storage.googleapis.com/laurencemoroney-blog.appspot.com/training_cleaned.csv\n",
      "Resolving storage.googleapis.com (storage.googleapis.com)... 74.125.31.128, 173.194.216.128, 173.194.217.128, ...\n",
      "Connecting to storage.googleapis.com (storage.googleapis.com)|74.125.31.128|:443... connected.\n",
      "HTTP request sent, awaiting response... 200 OK\n",
      "Length: 238942690 (228M) [application/octet-stream]\n",
      "Saving to: ‘/tmp/training_cleaned.csv’\n",
      "\n",
      "/tmp/training_clean 100%[===================>] 227.87M   171MB/s    in 1.3s    \n",
      "\n",
      "2020-10-06 12:38:33 (171 MB/s) - ‘/tmp/training_cleaned.csv’ saved [238942690/238942690]\n",
      "\n"
     ]
    }
   ],
   "source": [
    "# Note that I cleaned the Stanford dataset to remove LATIN1 encoding to make it easier for Python CSV reader\n",
    "# You can do that yourself with:\n",
    "# iconv -f LATIN1 -t UTF8 training.1600000.processed.noemoticon.csv -o training_cleaned.csv\n",
    "# I then hosted it on my site to make it easier to use in this notebook\n",
    "\n",
    "!wget --no-check-certificate \\\n",
    "    https://storage.googleapis.com/laurencemoroney-blog.appspot.com/training_cleaned.csv \\\n",
    "    -O /tmp/training_cleaned.csv\n",
    "\n",
    "num_sentences = 0\n",
    "\n",
    "with open(\"/tmp/training_cleaned.csv\") as csvfile:\n",
    "    reader = csv.reader(csvfile, delimiter=',')\n",
    "    for row in reader:\n",
    "        list_item=[]\n",
    "        list_item.append(row[5])\n",
    "        this_label=row[0]\n",
    "        if this_label=='0':\n",
    "            list_item.append(0)\n",
    "        else:\n",
    "            list_item.append(1)\n",
    "        num_sentences = num_sentences + 1\n",
    "        corpus.append(list_item)\n"
   ]
  },
  {
   "cell_type": "code",
   "execution_count": 4,
   "metadata": {
    "colab": {
     "base_uri": "https://localhost:8080/",
     "height": 68
    },
    "id": "3kxblBUjEUX-",
    "outputId": "525d5b07-85bb-46e9-a290-6bc891caa778"
   },
   "outputs": [
    {
     "name": "stdout",
     "output_type": "stream",
     "text": [
      "1600000\n",
      "1600000\n",
      "[\"is upset that he can't update his Facebook by texting it... and might cry as a result  School today also. Blah!\", 0]\n"
     ]
    }
   ],
   "source": [
    "print(num_sentences)\n",
    "print(len(corpus))\n",
    "print(corpus[1])\n",
    "\n",
    "# Expected Output:\n",
    "# 1600000\n",
    "# 1600000\n",
    "# [\"is upset that he can't update his Facebook by texting it... and might cry as a result  School today also. Blah!\", 0]"
   ]
  },
  {
   "cell_type": "code",
   "execution_count": 5,
   "metadata": {
    "id": "ohOGz24lsNAD"
   },
   "outputs": [],
   "source": [
    "sentences=[]\n",
    "labels=[]\n",
    "random.shuffle(corpus)\n",
    "for x in range(training_size):\n",
    "    sentences.append(corpus[x][0])\n",
    "    labels.append(corpus[x][1])\n",
    "\n",
    "\n",
    "tokenizer = Tokenizer()\n",
    "tokenizer.fit_on_texts(sentences)\n",
    "\n",
    "word_index = tokenizer.word_index\n",
    "vocab_size=len(word_index)\n",
    "\n",
    "sequences = tokenizer.texts_to_sequences(sentences)\n",
    "padded = pad_sequences(sequences, maxlen=max_length, padding=padding_type, truncating=trunc_type)\n",
    "\n",
    "split = int(test_portion * training_size)\n",
    "\n",
    "test_sequences = padded[0:split]\n",
    "training_sequences = padded[split:training_size]\n",
    "test_labels = labels[0:split]\n",
    "training_labels = labels[split:training_size]"
   ]
  },
  {
   "cell_type": "code",
   "execution_count": 6,
   "metadata": {
    "colab": {
     "base_uri": "https://localhost:8080/",
     "height": 51
    },
    "id": "gIrtRem1En3N",
    "outputId": "dc74ad1d-2610-421a-ffea-056a0b160058"
   },
   "outputs": [
    {
     "name": "stdout",
     "output_type": "stream",
     "text": [
      "138455\n",
      "1\n"
     ]
    }
   ],
   "source": [
    "print(vocab_size)\n",
    "print(word_index['i'])\n",
    "# Expected Output\n",
    "# 138858\n",
    "# 1"
   ]
  },
  {
   "cell_type": "code",
   "execution_count": 7,
   "metadata": {
    "colab": {
     "base_uri": "https://localhost:8080/",
     "height": 204
    },
    "id": "C1zdgJkusRh0",
    "outputId": "6e9aab1b-fc33-4f97-840c-33fb6fd7621f"
   },
   "outputs": [
    {
     "name": "stdout",
     "output_type": "stream",
     "text": [
      "--2020-10-06 12:38:47--  https://storage.googleapis.com/laurencemoroney-blog.appspot.com/glove.6B.100d.txt\n",
      "Resolving storage.googleapis.com (storage.googleapis.com)... 142.250.98.128, 173.194.214.128, 172.217.204.128, ...\n",
      "Connecting to storage.googleapis.com (storage.googleapis.com)|142.250.98.128|:443... connected.\n",
      "HTTP request sent, awaiting response... 200 OK\n",
      "Length: 347116733 (331M) [text/plain]\n",
      "Saving to: ‘/tmp/glove.6B.100d.txt’\n",
      "\n",
      "/tmp/glove.6B.100d. 100%[===================>] 331.04M   164MB/s    in 2.0s    \n",
      "\n",
      "2020-10-06 12:38:49 (164 MB/s) - ‘/tmp/glove.6B.100d.txt’ saved [347116733/347116733]\n",
      "\n"
     ]
    }
   ],
   "source": [
    "# Note this is the 100 dimension version of GloVe from Stanford\n",
    "# I unzipped and hosted it on my site to make this notebook easier\n",
    "!wget --no-check-certificate \\\n",
    "    https://storage.googleapis.com/laurencemoroney-blog.appspot.com/glove.6B.100d.txt \\\n",
    "    -O /tmp/glove.6B.100d.txt\n",
    "embeddings_index = {};\n",
    "with open('/tmp/glove.6B.100d.txt') as f:\n",
    "    for line in f:\n",
    "        values = line.split();\n",
    "        word = values[0];\n",
    "        coefs = np.asarray(values[1:], dtype='float32');\n",
    "        embeddings_index[word] = coefs;\n",
    "\n",
    "embeddings_matrix = np.zeros((vocab_size+1, embedding_dim));\n",
    "for word, i in word_index.items():\n",
    "    embedding_vector = embeddings_index.get(word);\n",
    "    if embedding_vector is not None:\n",
    "        embeddings_matrix[i] = embedding_vector;"
   ]
  },
  {
   "cell_type": "code",
   "execution_count": 8,
   "metadata": {
    "colab": {
     "base_uri": "https://localhost:8080/",
     "height": 34
    },
    "id": "71NLk_lpFLNt",
    "outputId": "18a76af4-f0af-4c5a-fad2-d85795229445"
   },
   "outputs": [
    {
     "name": "stdout",
     "output_type": "stream",
     "text": [
      "138456\n"
     ]
    }
   ],
   "source": [
    "print(len(embeddings_matrix))\n",
    "# Expected Output\n",
    "# 138859"
   ]
  },
  {
   "cell_type": "code",
   "execution_count": 9,
   "metadata": {
    "colab": {
     "base_uri": "https://localhost:8080/",
     "height": 1000
    },
    "id": "iKKvbuEBOGFz",
    "outputId": "0d6c7458-9891-4609-9f49-e66066202ed2"
   },
   "outputs": [
    {
     "name": "stdout",
     "output_type": "stream",
     "text": [
      "Model: \"sequential\"\n",
      "_________________________________________________________________\n",
      "Layer (type)                 Output Shape              Param #   \n",
      "=================================================================\n",
      "embedding (Embedding)        (None, 16, 100)           13845600  \n",
      "_________________________________________________________________\n",
      "dropout (Dropout)            (None, 16, 100)           0         \n",
      "_________________________________________________________________\n",
      "conv1d (Conv1D)              (None, 12, 64)            32064     \n",
      "_________________________________________________________________\n",
      "max_pooling1d (MaxPooling1D) (None, 3, 64)             0         \n",
      "_________________________________________________________________\n",
      "lstm (LSTM)                  (None, 64)                33024     \n",
      "_________________________________________________________________\n",
      "dense (Dense)                (None, 1)                 65        \n",
      "=================================================================\n",
      "Total params: 13,910,753\n",
      "Trainable params: 65,153\n",
      "Non-trainable params: 13,845,600\n",
      "_________________________________________________________________\n",
      "Epoch 1/50\n",
      "4500/4500 - 20s - loss: 0.5671 - accuracy: 0.6979 - val_loss: 0.5261 - val_accuracy: 0.7344\n",
      "Epoch 2/50\n",
      "4500/4500 - 19s - loss: 0.5271 - accuracy: 0.7323 - val_loss: 0.5140 - val_accuracy: 0.7394\n",
      "Epoch 3/50\n",
      "4500/4500 - 19s - loss: 0.5106 - accuracy: 0.7430 - val_loss: 0.5122 - val_accuracy: 0.7458\n",
      "Epoch 4/50\n",
      "4500/4500 - 19s - loss: 0.4975 - accuracy: 0.7531 - val_loss: 0.5237 - val_accuracy: 0.7439\n",
      "Epoch 5/50\n",
      "4500/4500 - 20s - loss: 0.4896 - accuracy: 0.7580 - val_loss: 0.5010 - val_accuracy: 0.7504\n",
      "Epoch 6/50\n",
      "4500/4500 - 20s - loss: 0.4824 - accuracy: 0.7635 - val_loss: 0.5018 - val_accuracy: 0.7543\n",
      "Epoch 7/50\n",
      "4500/4500 - 19s - loss: 0.4770 - accuracy: 0.7660 - val_loss: 0.4978 - val_accuracy: 0.7563\n",
      "Epoch 8/50\n",
      "4500/4500 - 20s - loss: 0.4712 - accuracy: 0.7695 - val_loss: 0.5004 - val_accuracy: 0.7541\n",
      "Epoch 9/50\n",
      "4500/4500 - 19s - loss: 0.4661 - accuracy: 0.7725 - val_loss: 0.4986 - val_accuracy: 0.7527\n",
      "Epoch 10/50\n",
      "4500/4500 - 19s - loss: 0.4626 - accuracy: 0.7751 - val_loss: 0.4979 - val_accuracy: 0.7575\n",
      "Epoch 11/50\n",
      "4500/4500 - 19s - loss: 0.4592 - accuracy: 0.7780 - val_loss: 0.5012 - val_accuracy: 0.7542\n",
      "Epoch 12/50\n",
      "4500/4500 - 19s - loss: 0.4556 - accuracy: 0.7802 - val_loss: 0.5053 - val_accuracy: 0.7547\n",
      "Epoch 13/50\n",
      "4500/4500 - 19s - loss: 0.4533 - accuracy: 0.7800 - val_loss: 0.5013 - val_accuracy: 0.7556\n",
      "Epoch 14/50\n",
      "4500/4500 - 19s - loss: 0.4510 - accuracy: 0.7817 - val_loss: 0.5046 - val_accuracy: 0.7521\n",
      "Epoch 15/50\n",
      "4500/4500 - 19s - loss: 0.4484 - accuracy: 0.7838 - val_loss: 0.5100 - val_accuracy: 0.7531\n",
      "Epoch 16/50\n",
      "4500/4500 - 19s - loss: 0.4484 - accuracy: 0.7832 - val_loss: 0.5104 - val_accuracy: 0.7524\n",
      "Epoch 17/50\n",
      "4500/4500 - 19s - loss: 0.4448 - accuracy: 0.7859 - val_loss: 0.5046 - val_accuracy: 0.7562\n",
      "Epoch 18/50\n",
      "4500/4500 - 19s - loss: 0.4443 - accuracy: 0.7871 - val_loss: 0.5071 - val_accuracy: 0.7544\n",
      "Epoch 19/50\n",
      "4500/4500 - 19s - loss: 0.4422 - accuracy: 0.7871 - val_loss: 0.5151 - val_accuracy: 0.7555\n",
      "Epoch 20/50\n",
      "4500/4500 - 19s - loss: 0.4401 - accuracy: 0.7889 - val_loss: 0.5139 - val_accuracy: 0.7503\n",
      "Epoch 21/50\n",
      "4500/4500 - 20s - loss: 0.4397 - accuracy: 0.7893 - val_loss: 0.5190 - val_accuracy: 0.7505\n",
      "Epoch 22/50\n",
      "4500/4500 - 20s - loss: 0.4377 - accuracy: 0.7906 - val_loss: 0.5167 - val_accuracy: 0.7487\n",
      "Epoch 23/50\n",
      "4500/4500 - 20s - loss: 0.4379 - accuracy: 0.7900 - val_loss: 0.5126 - val_accuracy: 0.7551\n",
      "Epoch 24/50\n",
      "4500/4500 - 20s - loss: 0.4360 - accuracy: 0.7914 - val_loss: 0.5135 - val_accuracy: 0.7525\n",
      "Epoch 25/50\n",
      "4500/4500 - 19s - loss: 0.4368 - accuracy: 0.7916 - val_loss: 0.5115 - val_accuracy: 0.7522\n",
      "Epoch 26/50\n",
      "4500/4500 - 20s - loss: 0.4353 - accuracy: 0.7918 - val_loss: 0.5154 - val_accuracy: 0.7526\n",
      "Epoch 27/50\n",
      "4500/4500 - 19s - loss: 0.4349 - accuracy: 0.7928 - val_loss: 0.5150 - val_accuracy: 0.7483\n",
      "Epoch 28/50\n",
      "4500/4500 - 19s - loss: 0.4333 - accuracy: 0.7930 - val_loss: 0.5146 - val_accuracy: 0.7494\n",
      "Epoch 29/50\n",
      "4500/4500 - 19s - loss: 0.4327 - accuracy: 0.7930 - val_loss: 0.5107 - val_accuracy: 0.7508\n",
      "Epoch 30/50\n",
      "4500/4500 - 19s - loss: 0.4307 - accuracy: 0.7946 - val_loss: 0.5170 - val_accuracy: 0.7512\n",
      "Epoch 31/50\n",
      "4500/4500 - 19s - loss: 0.4316 - accuracy: 0.7945 - val_loss: 0.5111 - val_accuracy: 0.7511\n",
      "Epoch 32/50\n",
      "4500/4500 - 19s - loss: 0.4309 - accuracy: 0.7948 - val_loss: 0.5108 - val_accuracy: 0.7521\n",
      "Epoch 33/50\n",
      "4500/4500 - 19s - loss: 0.4301 - accuracy: 0.7954 - val_loss: 0.5262 - val_accuracy: 0.7499\n",
      "Epoch 34/50\n",
      "4500/4500 - 19s - loss: 0.4287 - accuracy: 0.7961 - val_loss: 0.5164 - val_accuracy: 0.7511\n",
      "Epoch 35/50\n",
      "4500/4500 - 19s - loss: 0.4280 - accuracy: 0.7975 - val_loss: 0.5164 - val_accuracy: 0.7530\n",
      "Epoch 36/50\n",
      "4500/4500 - 19s - loss: 0.4287 - accuracy: 0.7952 - val_loss: 0.5165 - val_accuracy: 0.7513\n",
      "Epoch 37/50\n",
      "4500/4500 - 20s - loss: 0.4293 - accuracy: 0.7955 - val_loss: 0.5173 - val_accuracy: 0.7524\n",
      "Epoch 38/50\n",
      "4500/4500 - 20s - loss: 0.4278 - accuracy: 0.7966 - val_loss: 0.5181 - val_accuracy: 0.7510\n",
      "Epoch 39/50\n",
      "4500/4500 - 20s - loss: 0.4262 - accuracy: 0.7969 - val_loss: 0.5232 - val_accuracy: 0.7491\n",
      "Epoch 40/50\n",
      "4500/4500 - 19s - loss: 0.4277 - accuracy: 0.7983 - val_loss: 0.5202 - val_accuracy: 0.7479\n",
      "Epoch 41/50\n",
      "4500/4500 - 19s - loss: 0.4275 - accuracy: 0.7972 - val_loss: 0.5201 - val_accuracy: 0.7515\n",
      "Epoch 42/50\n",
      "4500/4500 - 19s - loss: 0.4258 - accuracy: 0.7982 - val_loss: 0.5224 - val_accuracy: 0.7472\n",
      "Epoch 43/50\n",
      "4500/4500 - 19s - loss: 0.4256 - accuracy: 0.7972 - val_loss: 0.5221 - val_accuracy: 0.7527\n",
      "Epoch 44/50\n",
      "4500/4500 - 19s - loss: 0.4264 - accuracy: 0.7973 - val_loss: 0.5136 - val_accuracy: 0.7492\n",
      "Epoch 45/50\n",
      "4500/4500 - 19s - loss: 0.4254 - accuracy: 0.7976 - val_loss: 0.5222 - val_accuracy: 0.7548\n",
      "Epoch 46/50\n",
      "4500/4500 - 19s - loss: 0.4253 - accuracy: 0.7981 - val_loss: 0.5239 - val_accuracy: 0.7487\n",
      "Epoch 47/50\n",
      "4500/4500 - 19s - loss: 0.4247 - accuracy: 0.7978 - val_loss: 0.5234 - val_accuracy: 0.7504\n",
      "Epoch 48/50\n",
      "4500/4500 - 19s - loss: 0.4264 - accuracy: 0.7973 - val_loss: 0.5248 - val_accuracy: 0.7497\n",
      "Epoch 49/50\n",
      "4500/4500 - 19s - loss: 0.4250 - accuracy: 0.7979 - val_loss: 0.5278 - val_accuracy: 0.7501\n",
      "Epoch 50/50\n",
      "4500/4500 - 19s - loss: 0.4254 - accuracy: 0.7973 - val_loss: 0.5221 - val_accuracy: 0.7476\n",
      "Training Complete\n"
     ]
    }
   ],
   "source": [
    "model = tf.keras.Sequential([\n",
    "    tf.keras.layers.Embedding(vocab_size+1, embedding_dim, input_length=max_length, weights=[embeddings_matrix], trainable=False),\n",
    "    tf.keras.layers.Dropout(0.2),\n",
    "    tf.keras.layers.Conv1D(64, 5, activation='relu'),\n",
    "    tf.keras.layers.MaxPooling1D(pool_size=4),\n",
    "    tf.keras.layers.LSTM(64),\n",
    "    tf.keras.layers.Dense(1, activation='sigmoid')\n",
    "])\n",
    "model.compile(loss='binary_crossentropy',optimizer='adam',metrics=['accuracy'])\n",
    "model.summary()\n",
    "\n",
    "num_epochs = 50\n",
    "\n",
    "training_padded = np.array(training_sequences)\n",
    "training_labels = np.array(training_labels)\n",
    "testing_padded = np.array(test_sequences)\n",
    "testing_labels = np.array(test_labels)\n",
    "\n",
    "history = model.fit(training_padded, training_labels, epochs=num_epochs, validation_data=(testing_padded, testing_labels), verbose=2)\n",
    "\n",
    "print(\"Training Complete\")"
   ]
  },
  {
   "cell_type": "code",
   "execution_count": 10,
   "metadata": {
    "colab": {
     "base_uri": "https://localhost:8080/",
     "height": 607
    },
    "id": "qxju4ItJKO8F",
    "outputId": "c68ac0ed-82e1-44b6-e5a5-fd1e3a3b10e4"
   },
   "outputs": [
    {
     "data": {
      "text/plain": [
       "<Figure size 432x288 with 0 Axes>"
      ]
     },
     "execution_count": 10,
     "metadata": {
      "tags": []
     },
     "output_type": "execute_result"
    },
    {
     "data": {
      "image/png": "[encoded data removed]",
      "text/plain": [
       "<Figure size 432x288 with 1 Axes>"
      ]
     },
     "metadata": {
      "needs_background": "light",
      "tags": []
     },
     "output_type": "display_data"
    },
    {
     "data": {
      "image/png": "[encoded data removed]",
      "text/plain": [
       "<Figure size 432x288 with 1 Axes>"
      ]
     },
     "metadata": {
      "needs_background": "light",
      "tags": []
     },
     "output_type": "display_data"
    },
    {
     "data": {
      "text/plain": [
       "<Figure size 432x288 with 0 Axes>"
      ]
     },
     "metadata": {
      "tags": []
     },
     "output_type": "display_data"
    }
   ],
   "source": [
    "import matplotlib.image  as mpimg\n",
    "import matplotlib.pyplot as plt\n",
    "\n",
    "#-----------------------------------------------------------\n",
    "# Retrieve a list of list results on training and test data\n",
    "# sets for each training epoch\n",
    "#-----------------------------------------------------------\n",
    "acc=history.history['accuracy']\n",
    "val_acc=history.history['val_accuracy']\n",
    "loss=history.history['loss']\n",
    "val_loss=history.history['val_loss']\n",
    "\n",
    "epochs=range(len(acc)) # Get number of epochs\n",
    "\n",
    "#------------------------------------------------\n",
    "# Plot training and validation accuracy per epoch\n",
    "#------------------------------------------------\n",
    "plt.plot(epochs, acc, 'r')\n",
    "plt.plot(epochs, val_acc, 'b')\n",
    "plt.title('Training and validation accuracy')\n",
    "plt.xlabel(\"Epochs\")\n",
    "plt.ylabel(\"Accuracy\")\n",
    "plt.legend([\"Accuracy\", \"Validation Accuracy\"])\n",
    "\n",
    "plt.figure()\n",
    "\n",
    "#------------------------------------------------\n",
    "# Plot training and validation loss per epoch\n",
    "#------------------------------------------------\n",
    "plt.plot(epochs, loss, 'r')\n",
    "plt.plot(epochs, val_loss, 'b')\n",
    "plt.title('Training and validation loss')\n",
    "plt.xlabel(\"Epochs\")\n",
    "plt.ylabel(\"Loss\")\n",
    "plt.legend([\"Loss\", \"Validation Loss\"])\n",
    "\n",
    "plt.figure()\n",
    "\n",
    "\n",
    "# Expected Output\n",
    "# A chart where the validation loss does not increase sharply!"
   ]
  },
  {
   "cell_type": "code",
   "execution_count": null,
   "metadata": {
    "id": "lZ1HNrWp63Jp"
   },
   "outputs": [],
   "source": []
  }
 ],
 "metadata": {
  "accelerator": "GPU",
  "colab": {
   "name": "NLP Course - Week 3 Exercise Answer.ipynb",
   "provenance": [],
   "toc_visible": true
  },
  "kernelspec": {
   "display_name": "Python 3",
   "language": "python",
   "name": "python3"
  },
  "language_info": {
   "codemirror_mode": {
    "name": "ipython",
    "version": 3
   },
   "file_extension": ".py",
   "mimetype": "text/x-python",
   "name": "python",
   "nbconvert_exporter": "python",
   "pygments_lexer": "ipython3",
   "version": "3.7.7"
  }
 },
 "nbformat": 4,
 "nbformat_minor": 1
}
